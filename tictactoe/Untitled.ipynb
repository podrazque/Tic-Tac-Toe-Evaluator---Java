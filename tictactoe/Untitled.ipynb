{
 "cells": [
  {
   "cell_type": "code",
   "execution_count": 23,
   "metadata": {},
   "outputs": [
    {
     "name": "stdout",
     "output_type": "stream",
     "text": [
      "[1, 8, 123]\n"
     ]
    }
   ],
   "source": [
    "stores = [1, 4 ,5,  7, 8, 123 ,131]\n",
    "houses = [2, 9, 110]\n",
    "import numpy\n",
    "\n",
    "def solution(stores, houses):\n",
    "    returnDistances = []\n",
    "    storeDistances = []\n",
    "    for i in range(len(houses)):\n",
    "        min = 1000\n",
    "        distances = []\n",
    "        for j in range(len(stores)):\n",
    "            distances.append(abs(houses[i] - stores[j]))\n",
    "        minimumDistance = numpy.min(distances)\n",
    "        indexOfStore = distances.index(minimumDistance)\n",
    "        returnDistances.append(stores[indexOfStore])\n",
    "    return returnDistances\n",
    "    \n",
    "print(solution(stores, houses))"
   ]
  },
  {
   "cell_type": "code",
   "execution_count": 15,
   "metadata": {},
   "outputs": [
    {
     "data": {
      "text/plain": [
       "1"
      ]
     },
     "execution_count": 15,
     "metadata": {},
     "output_type": "execute_result"
    }
   ],
   "source": [
    "list = [1, 2]\n",
    "a = min(list)\n",
    "a"
   ]
  },
  {
   "cell_type": "code",
   "execution_count": null,
   "metadata": {},
   "outputs": [],
   "source": []
  }
 ],
 "metadata": {
  "kernelspec": {
   "display_name": "Python 3",
   "language": "python",
   "name": "python3"
  },
  "language_info": {
   "codemirror_mode": {
    "name": "ipython",
    "version": 3
   },
   "file_extension": ".py",
   "mimetype": "text/x-python",
   "name": "python",
   "nbconvert_exporter": "python",
   "pygments_lexer": "ipython3",
   "version": "3.7.0"
  }
 },
 "nbformat": 4,
 "nbformat_minor": 2
}
